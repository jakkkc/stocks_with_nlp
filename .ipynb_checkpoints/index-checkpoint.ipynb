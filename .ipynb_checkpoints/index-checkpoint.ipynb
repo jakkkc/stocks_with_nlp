{
 "cells": [
  {
   "cell_type": "code",
   "execution_count": 1,
   "id": "5a8cceef",
   "metadata": {},
   "outputs": [
    {
     "name": "stdout",
     "output_type": "stream",
     "text": [
      "Requirement already satisfied: pandas in c:\\users\\jack\\documents\\flatiron\\envs\\learn-env\\lib\\site-packages (2.0.3)\n",
      "Requirement already satisfied: numpy in c:\\users\\jack\\documents\\flatiron\\envs\\learn-env\\lib\\site-packages (1.19.0)\n",
      "Collecting numpy\n",
      "  Using cached numpy-1.24.4-cp38-cp38-win_amd64.whl.metadata (5.6 kB)\n",
      "Requirement already satisfied: openpyxl in c:\\users\\jack\\documents\\flatiron\\envs\\learn-env\\lib\\site-packages (3.0.5)\n",
      "Collecting openpyxl\n",
      "  Downloading openpyxl-3.1.5-py2.py3-none-any.whl.metadata (2.5 kB)\n",
      "Requirement already satisfied: python-dateutil>=2.8.2 in c:\\users\\jack\\appdata\\roaming\\python\\python38\\site-packages (from pandas) (2.9.0.post0)\n",
      "Requirement already satisfied: pytz>=2020.1 in c:\\users\\jack\\documents\\flatiron\\envs\\learn-env\\lib\\site-packages (from pandas) (2020.1)\n",
      "Requirement already satisfied: tzdata>=2022.1 in c:\\users\\jack\\documents\\flatiron\\envs\\learn-env\\lib\\site-packages (from pandas) (2024.1)\n",
      "Requirement already satisfied: et-xmlfile in c:\\users\\jack\\documents\\flatiron\\envs\\learn-env\\lib\\site-packages (from openpyxl) (1.0.1)\n",
      "Requirement already satisfied: six>=1.5 in c:\\users\\jack\\appdata\\roaming\\python\\python38\\site-packages (from python-dateutil>=2.8.2->pandas) (1.16.0)\n",
      "Using cached numpy-1.24.4-cp38-cp38-win_amd64.whl (14.9 MB)\n",
      "Downloading openpyxl-3.1.5-py2.py3-none-any.whl (250 kB)\n",
      "   -------------------------------------- 250.9/250.9 kB 496.2 kB/s eta 0:00:00\n",
      "Installing collected packages: openpyxl, numpy\n",
      "  Attempting uninstall: openpyxl\n",
      "    Found existing installation: openpyxl 3.0.5\n",
      "    Uninstalling openpyxl-3.0.5:\n",
      "      Successfully uninstalled openpyxl-3.0.5\n",
      "  Attempting uninstall: numpy\n",
      "    Found existing installation: numpy 1.19.0\n",
      "    Uninstalling numpy-1.19.0:\n",
      "      Successfully uninstalled numpy-1.19.0\n",
      "Successfully installed numpy-1.24.4 openpyxl-3.1.5\n",
      "Note: you may need to restart the kernel to use updated packages.\n"
     ]
    },
    {
     "name": "stderr",
     "output_type": "stream",
     "text": [
      "WARNING: Ignoring invalid distribution -atplotlib (c:\\users\\jack\\documents\\flatiron\\envs\\learn-env\\lib\\site-packages)\n",
      "WARNING: Ignoring invalid distribution -atplotlib (c:\\users\\jack\\documents\\flatiron\\envs\\learn-env\\lib\\site-packages)\n",
      "ERROR: pip's dependency resolver does not currently take into account all the packages that are installed. This behaviour is the source of the following dependency conflicts.\n",
      "fbprophet 0.7.1 requires cmdstanpy==0.9.5, which is not installed.\n",
      "tensorflow 2.3.1 requires numpy<1.19.0,>=1.16.0, but you have numpy 1.24.4 which is incompatible.\n",
      "\n",
      "[notice] A new release of pip is available: 24.1.2 -> 24.2\n",
      "[notice] To update, run: python.exe -m pip install --upgrade pip\n"
     ]
    }
   ],
   "source": [
    "pip install --upgrade pandas numpy openpyxl"
   ]
  },
  {
   "cell_type": "code",
   "execution_count": 2,
   "id": "03abb496",
   "metadata": {},
   "outputs": [],
   "source": [
    "from bs4 import BeautifulSoup\n",
    "import os\n",
    "import pandas as pd"
   ]
  },
  {
   "cell_type": "code",
   "execution_count": 7,
   "id": "d5e05908",
   "metadata": {},
   "outputs": [],
   "source": [
    "class ScrapDataLoader:\n",
    "    def __init__(self, dataset_folder):\n",
    "        self.dataset_folder = dataset_folder\n",
    "        self.html_tables = {}\n",
    "\n",
    "    def load_data(self):\n",
    "        # For every table in the datasets folder...\n",
    "        for table_name in os.listdir(self.dataset_folder):\n",
    "            # This is the path to the file. Don't touch!\n",
    "            table_path = os.path.join(self.dataset_folder, table_name)\n",
    "            # Open as a python file in read-only mode\n",
    "            with open(table_path, 'r') as table_file:\n",
    "                # Read the contents of the file into 'html'\n",
    "                html = BeautifulSoup(table_file, 'html.parser')\n",
    "                # Find 'news-table' in the Soup and load it into 'html_table'\n",
    "                html_table = html.find(id='news-table')\n",
    "                # Add the table to our dictionary\n",
    "                self.html_tables[table_name] = html_table\n",
    "\n",
    "    def get_tables(self):\n",
    "        return self.html_tables\n",
    "\n",
    "    def get_tsla_df(self, file_name):\n",
    "        # Read one single day of headlines\n",
    "        tsla = self.html_tables[file_name]\n",
    "        # Get all the table rows tagged in HTML with <tr> into 'tesla_tr'\n",
    "        tsla_tr = tsla.findAll('tr')\n",
    "\n",
    "        # Prepare lists to store the data\n",
    "        link_texts = []\n",
    "        data_texts = []\n",
    "\n",
    "        # For each row...\n",
    "        for i, table_row in enumerate(tsla_tr):\n",
    "            # Read the text of the element 'a' into 'link_text'\n",
    "            link_text = table_row.a.get_text()\n",
    "            # Read the text of the element 'td' into 'data_text'\n",
    "            data_text = table_row.td.get_text()\n",
    "            # Append the texts to the lists\n",
    "            link_texts.append(link_text)\n",
    "            data_texts.append(data_text)\n",
    "            # The following exits the loop after four rows to prevent spamming the notebook, do not touch\n",
    "            if i == 3:\n",
    "                break\n",
    "\n",
    "        # Create a DataFrame\n",
    "        tsla_df = pd.DataFrame({\n",
    "            'Link Text': link_texts,\n",
    "            'Data Text': data_texts\n",
    "        })\n",
    "\n",
    "        return tsla_df"
   ]
  },
  {
   "cell_type": "code",
   "execution_count": 9,
   "id": "767fa2a8",
   "metadata": {},
   "outputs": [
    {
     "name": "stdout",
     "output_type": "stream",
     "text": [
      "                                           Link Text            Data Text\n",
      "0  Billionaire investor questions Elon Musk getti...  Sep-21-18 09:56PM  \n",
      "1                Broadcoms Stock Looks Like a Winner            09:30PM  \n",
      "2  SHAREHOLDER ALERT:Â  Pomerantz Law Firm Remind...            05:30PM  \n",
      "3  Tesla's People Problem and the Inscrutable Mus...            05:30PM  \n"
     ]
    },
    {
     "data": {
      "text/html": [
       "<div>\n",
       "<style scoped>\n",
       "    .dataframe tbody tr th:only-of-type {\n",
       "        vertical-align: middle;\n",
       "    }\n",
       "\n",
       "    .dataframe tbody tr th {\n",
       "        vertical-align: top;\n",
       "    }\n",
       "\n",
       "    .dataframe thead th {\n",
       "        text-align: right;\n",
       "    }\n",
       "</style>\n",
       "<table border=\"1\" class=\"dataframe\">\n",
       "  <thead>\n",
       "    <tr style=\"text-align: right;\">\n",
       "      <th></th>\n",
       "      <th>Link Text</th>\n",
       "      <th>Data Text</th>\n",
       "    </tr>\n",
       "  </thead>\n",
       "  <tbody>\n",
       "    <tr>\n",
       "      <th>0</th>\n",
       "      <td>Billionaire investor questions Elon Musk getti...</td>\n",
       "      <td>Sep-21-18 09:56PM</td>\n",
       "    </tr>\n",
       "    <tr>\n",
       "      <th>1</th>\n",
       "      <td>Broadcoms Stock Looks Like a Winner</td>\n",
       "      <td>09:30PM</td>\n",
       "    </tr>\n",
       "    <tr>\n",
       "      <th>2</th>\n",
       "      <td>SHAREHOLDER ALERT:Â  Pomerantz Law Firm Remind...</td>\n",
       "      <td>05:30PM</td>\n",
       "    </tr>\n",
       "    <tr>\n",
       "      <th>3</th>\n",
       "      <td>Tesla's People Problem and the Inscrutable Mus...</td>\n",
       "      <td>05:30PM</td>\n",
       "    </tr>\n",
       "  </tbody>\n",
       "</table>\n",
       "</div>"
      ],
      "text/plain": [
       "                                           Link Text            Data Text\n",
       "0  Billionaire investor questions Elon Musk getti...  Sep-21-18 09:56PM  \n",
       "1                Broadcoms Stock Looks Like a Winner            09:30PM  \n",
       "2  SHAREHOLDER ALERT:Â  Pomerantz Law Firm Remind...            05:30PM  \n",
       "3  Tesla's People Problem and the Inscrutable Mus...            05:30PM  "
      ]
     },
     "execution_count": 9,
     "metadata": {},
     "output_type": "execute_result"
    }
   ],
   "source": [
    "loader = ScrapDataLoader('data')\n",
    "loader.load_data()\n",
    "tsla_df = loader.get_tsla_df('tsla_22sep.html')\n",
    "print(tsla_df)\n",
    "tsla_df.head()"
   ]
  },
  {
   "cell_type": "code",
   "execution_count": null,
   "id": "be1faf0e",
   "metadata": {},
   "outputs": [],
   "source": []
  }
 ],
 "metadata": {
  "kernelspec": {
   "display_name": "Python 3",
   "language": "python",
   "name": "python3"
  },
  "language_info": {
   "codemirror_mode": {
    "name": "ipython",
    "version": 3
   },
   "file_extension": ".py",
   "mimetype": "text/x-python",
   "name": "python",
   "nbconvert_exporter": "python",
   "pygments_lexer": "ipython3",
   "version": "3.8.5"
  }
 },
 "nbformat": 4,
 "nbformat_minor": 5
}
